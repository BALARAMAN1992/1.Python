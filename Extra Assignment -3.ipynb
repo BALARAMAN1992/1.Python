{
 "cells": [
  {
   "cell_type": "code",
   "execution_count": 3,
   "id": "4f9272a5-8515-43fd-ad7b-e047d725d287",
   "metadata": {},
   "outputs": [
    {
     "name": "stdout",
     "output_type": "stream",
     "text": [
      "value=10\n",
      "correct\n"
     ]
    }
   ],
   "source": [
    "value=10\n",
    "print(\"value=10\")\n",
    "if(value==10):\n",
    "    print(\"correct\")"
   ]
  },
  {
   "cell_type": "code",
   "execution_count": 130,
   "id": "0c1f9b2b-2d9e-46ad-a291-d4140c82ecbc",
   "metadata": {},
   "outputs": [
    {
     "name": "stdin",
     "output_type": "stream",
     "text": [
      "Enter the password:  HOPE@123\n"
     ]
    },
    {
     "name": "stdout",
     "output_type": "stream",
     "text": [
      "correct\n"
     ]
    }
   ],
   "source": [
    "password=str(input(\"Enter the password: \"))\n",
    "if (password==\"HOPE@123\"):\n",
    "    print(\"correct\")\n",
    "else:\n",
    "    print(\"incorrect\")"
   ]
  },
  {
   "cell_type": "code",
   "execution_count": 134,
   "id": "2cf244ad-de57-4987-8209-3ffdad3420fa",
   "metadata": {},
   "outputs": [
    {
     "name": "stdin",
     "output_type": "stream",
     "text": [
      "age:  20\n"
     ]
    },
    {
     "name": "stdout",
     "output_type": "stream",
     "text": [
      "Adult\n"
     ]
    }
   ],
   "source": [
    "Age=int(input(\"age: \"))\n",
    "if(Age<18):\n",
    "    print(\"child\")\n",
    "if(Age>18):\n",
    "    print(\"Adult\")\n",
    "if(Age>40):\n",
    "    print(\"Middle-aged adult\")\n",
    "if(Age>60):\n",
    "    print(\"Senior adult\")"
   ]
  },
  {
   "cell_type": "code",
   "execution_count": 142,
   "id": "be80d8e9-215b-4f9a-bd5f-a3379ca1e05e",
   "metadata": {},
   "outputs": [
    {
     "name": "stdin",
     "output_type": "stream",
     "text": [
      "Enter the any number: 1\n"
     ]
    },
    {
     "name": "stdout",
     "output_type": "stream",
     "text": [
      "No is positive\n"
     ]
    }
   ],
   "source": [
    "Num=int(input(\"Enter the any number:\"))\n",
    "if(Num>=1):\n",
    "    print(\"No is positive\")\n",
    "if(Num<0):\n",
    "    print(\"No is negative\")"
   ]
  },
  {
   "cell_type": "code",
   "execution_count": 148,
   "id": "69e03d1b-09a2-4071-90a5-4c9e73557ed0",
   "metadata": {},
   "outputs": [
    {
     "name": "stdin",
     "output_type": "stream",
     "text": [
      "Enter the any number: 22\n"
     ]
    },
    {
     "name": "stdout",
     "output_type": "stream",
     "text": [
      "No is not divisible by 5\n"
     ]
    }
   ],
   "source": [
    "Num=int(input(\"Enter the any number:\"))\n",
    "if(Num%5==0):\n",
    "    print(\"No is divisible by 5\")\n",
    "else:\n",
    "    print(\"No is not divisible by 5\")"
   ]
  },
  {
   "cell_type": "code",
   "execution_count": null,
   "id": "d72d4952-40c0-4018-86b4-2945f063c157",
   "metadata": {},
   "outputs": [],
   "source": []
  }
 ],
 "metadata": {
  "kernelspec": {
   "display_name": "Python 3 (ipykernel)",
   "language": "python",
   "name": "python3"
  },
  "language_info": {
   "codemirror_mode": {
    "name": "ipython",
    "version": 3
   },
   "file_extension": ".py",
   "mimetype": "text/x-python",
   "name": "python",
   "nbconvert_exporter": "python",
   "pygments_lexer": "ipython3",
   "version": "3.12.7"
  }
 },
 "nbformat": 4,
 "nbformat_minor": 5
}
