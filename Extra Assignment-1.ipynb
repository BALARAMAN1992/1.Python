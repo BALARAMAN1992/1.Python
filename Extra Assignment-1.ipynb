{
 "cells": [
  {
   "cell_type": "code",
   "execution_count": 1,
   "id": "d553d250-3616-4188-a315-bc9327c38be0",
   "metadata": {},
   "outputs": [
    {
     "name": "stdout",
     "output_type": "stream",
     "text": [
      "HOPE AI\n"
     ]
    }
   ],
   "source": [
    "print(\"HOPE AI\")"
   ]
  },
  {
   "cell_type": "code",
   "execution_count": 17,
   "id": "48780d5e-c83c-4783-87e5-59b19779789f",
   "metadata": {},
   "outputs": [
    {
     "name": "stdin",
     "output_type": "stream",
     "text": [
      "Enter the institute Name?  HOPE AI\n"
     ]
    }
   ],
   "source": [
    "institute:input(\"Enter the institute Name? \")"
   ]
  },
  {
   "cell_type": "code",
   "execution_count": 23,
   "id": "d6f870fc-34a6-4d05-bbc8-0e6c0750fdc4",
   "metadata": {},
   "outputs": [
    {
     "name": "stdin",
     "output_type": "stream",
     "text": [
      "Enter Your name:  Raj\n",
      "Enter Your Age:  15\n",
      "Enter your school name:  Guru School\n",
      "Enter Your Degree:  B.E CSE\n"
     ]
    }
   ],
   "source": [
    "NAME=input(\"Enter Your name: \")\n",
    "AGE=int(input(\"Enter Your Age: \"))\n",
    "Schoolname=input(\"Enter your school name: \")\n",
    "degree=input(\"Enter Your Degree: \")"
   ]
  },
  {
   "cell_type": "code",
   "execution_count": 37,
   "id": "3a23660b-63c3-4f46-b57a-538fc8282ec4",
   "metadata": {},
   "outputs": [
    {
     "name": "stdout",
     "output_type": "stream",
     "text": [
      "a= 43\n",
      "b= 34\n",
      "add =  77\n",
      "sub =  9\n"
     ]
    }
   ],
   "source": [
    "a=43\n",
    "b=34\n",
    "add=a+b\n",
    "sub=a-b\n",
    "print(\"a= 43\")\n",
    "print(\"b= 34\")\n",
    "print(\"add = \",add)\n",
    "print(\"sub = \",sub)"
   ]
  },
  {
   "cell_type": "code",
   "execution_count": 33,
   "id": "53f96d7c-3b8f-425b-b8e6-13432df25f82",
   "metadata": {},
   "outputs": [
    {
     "name": "stdout",
     "output_type": "stream",
     "text": [
      "a= 43\n",
      "b= 34\n",
      "sub =  9\n"
     ]
    }
   ],
   "source": [
    "a=43\n",
    "b=34\n",
    "sub=a-b \n",
    "print(\"a= 43\")\n",
    "print(\"b= 34\")\n",
    "print(\"sub = \",sub)"
   ]
  },
  {
   "cell_type": "code",
   "execution_count": 35,
   "id": "a153bd0b-a022-426c-8c4d-1922a5303202",
   "metadata": {},
   "outputs": [
    {
     "name": "stdout",
     "output_type": "stream",
     "text": [
      "a= 63\n",
      "b= 97\n",
      "mul =  6111\n"
     ]
    }
   ],
   "source": [
    "a=63\n",
    "b=97\n",
    "mul=a*b\n",
    "print(\"a= 63\")\n",
    "print(\"b= 97\")\n",
    "print(\"mul = \",mul)"
   ]
  },
  {
   "cell_type": "code",
   "execution_count": 43,
   "id": "085073ad-5dbd-48fd-91ed-d73f9ebb9d87",
   "metadata": {},
   "outputs": [
    {
     "name": "stdout",
     "output_type": "stream",
     "text": [
      "a= 73\n",
      "b= 31\n",
      "Float Div =  2.4516129032258065\n",
      "Floor Div =  2\n",
      "Modulo =  14\n"
     ]
    }
   ],
   "source": [
    "a=76\n",
    "b=31\n",
    "Floatdiv=a/b\n",
    "Floordiv=a//b\n",
    "Modulo=a%b\n",
    "print(\"a= 73\")\n",
    "print(\"b= 31\")\n",
    "print(\"Float Div = \",Floatdiv)\n",
    "print(\"Floor Div = \",Floordiv)\n",
    "print(\"Modulo = \",Modulo)"
   ]
  },
  {
   "cell_type": "code",
   "execution_count": 47,
   "id": "cd6d1621-1182-429e-afb0-d47a82bd97a4",
   "metadata": {},
   "outputs": [
    {
     "name": "stdout",
     "output_type": "stream",
     "text": [
      "a= 4\n",
      "b= 4\n",
      "Power =  256\n"
     ]
    }
   ],
   "source": [
    "a=4\n",
    "b=4\n",
    "Power=a**b\n",
    "print(\"a= 4\")\n",
    "print(\"b= 4\")\n",
    "print(\"Power = \",Power)"
   ]
  },
  {
   "cell_type": "code",
   "execution_count": 63,
   "id": "b908665c-fa41-46bc-a5ed-9d48d92a1362",
   "metadata": {},
   "outputs": [
    {
     "name": "stdout",
     "output_type": "stream",
     "text": [
      "[0, 20]\n"
     ]
    }
   ],
   "source": [
    "range=[0,20]\n",
    "print(range)"
   ]
  },
  {
   "cell_type": "code",
   "execution_count": null,
   "id": "c3821a31-8060-451f-98f1-326711a2df3d",
   "metadata": {},
   "outputs": [],
   "source": []
  }
 ],
 "metadata": {
  "kernelspec": {
   "display_name": "Python 3 (ipykernel)",
   "language": "python",
   "name": "python3"
  },
  "language_info": {
   "codemirror_mode": {
    "name": "ipython",
    "version": 3
   },
   "file_extension": ".py",
   "mimetype": "text/x-python",
   "name": "python",
   "nbconvert_exporter": "python",
   "pygments_lexer": "ipython3",
   "version": "3.12.7"
  }
 },
 "nbformat": 4,
 "nbformat_minor": 5
}
