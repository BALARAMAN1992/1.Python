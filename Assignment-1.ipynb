{
 "cells": [
  {
   "cell_type": "code",
   "execution_count": 1,
   "id": "d2956a14-8a01-47e0-ba33-de7f51c55b4e",
   "metadata": {},
   "outputs": [
    {
     "name": "stdout",
     "output_type": "stream",
     "text": [
      "Welcome to Assignment-1\n"
     ]
    }
   ],
   "source": [
    "print(\"Welcome to Assignment-1\")"
   ]
  },
  {
   "cell_type": "code",
   "execution_count": 5,
   "id": "4e9263e4-a139-408b-8e72-b9080dcb2e0a",
   "metadata": {},
   "outputs": [
    {
     "name": "stdout",
     "output_type": "stream",
     "text": [
      "Num1= 30\n",
      "Num2= 40\n",
      "Add=  70\n"
     ]
    }
   ],
   "source": [
    "Num1=30\n",
    "Num2=40\n",
    "Add=Num1+Num2\n",
    "print(\"Num1= 30\")\n",
    "print(\"Num2= 40\")\n",
    "print(\"Add= \",Add)"
   ]
  },
  {
   "cell_type": "code",
   "execution_count": 17,
   "id": "e8b8ec68-3d86-457c-b2fe-e687681c7211",
   "metadata": {},
   "outputs": [
    {
     "name": "stdin",
     "output_type": "stream",
     "text": [
      "Enter the BMI Index: 34\n"
     ]
    }
   ],
   "source": [
    "BMI=int(input(\"Enter the BMI Index:\"))"
   ]
  },
  {
   "cell_type": "code",
   "execution_count": 23,
   "id": "728a4a85-341f-4dff-a432-ab1bff33a54a",
   "metadata": {},
   "outputs": [
    {
     "name": "stdout",
     "output_type": "stream",
     "text": [
      "Enter the BMI Index:34\n",
      "Very Over Weight\n"
     ]
    }
   ],
   "source": [
    "print(\"Enter the BMI Index:34\")\n",
    "if(BMI>29):\n",
    "    print(\"Very Over Weight\")\n",
    "if(BMI<29):\n",
    "    print(\"Normal weight\")"
   ]
  },
  {
   "cell_type": "code",
   "execution_count": null,
   "id": "20ded0b9-105a-4702-b758-fb110abb3f64",
   "metadata": {},
   "outputs": [],
   "source": []
  }
 ],
 "metadata": {
  "kernelspec": {
   "display_name": "Python 3 (ipykernel)",
   "language": "python",
   "name": "python3"
  },
  "language_info": {
   "codemirror_mode": {
    "name": "ipython",
    "version": 3
   },
   "file_extension": ".py",
   "mimetype": "text/x-python",
   "name": "python",
   "nbconvert_exporter": "python",
   "pygments_lexer": "ipython3",
   "version": "3.12.7"
  }
 },
 "nbformat": 4,
 "nbformat_minor": 5
}
