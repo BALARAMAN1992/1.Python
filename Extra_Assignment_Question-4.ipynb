{
 "cells": [
  {
   "cell_type": "code",
   "execution_count": 25,
   "id": "830e35b3-17da-458f-bbfc-e8b721787098",
   "metadata": {},
   "outputs": [],
   "source": [
    "list=[\"Machine Learning\",\"Neural Networks\",\"Vision\",\"Robotics\",\"Speech Processing\",\"Natural Language Processing\"]"
   ]
  },
  {
   "cell_type": "code",
   "execution_count": 174,
   "id": "ae3a26f2-e8dd-4543-9966-6df7a7592bbe",
   "metadata": {},
   "outputs": [],
   "source": [
    "def SubfieldsInAISubfields():\n",
    "    print(\"Sub-fields in AI are:\")\n",
    "    for name in list:\n",
    "        print(name)"
   ]
  },
  {
   "cell_type": "code",
   "execution_count": 176,
   "id": "6bbebaa3-05d7-4a0b-bc8d-d7923ddf3fdf",
   "metadata": {},
   "outputs": [
    {
     "name": "stdout",
     "output_type": "stream",
     "text": [
      "Sub-fields in AI are:\n",
      "Machine Learning\n",
      "Neural Networks\n",
      "Vision\n",
      "Robotics\n",
      "Speech Processing\n",
      "Natural Language Processing\n"
     ]
    }
   ],
   "source": [
    "SubfieldsInAISubfields()"
   ]
  },
  {
   "cell_type": "code",
   "execution_count": 33,
   "id": "3185cdfc-ef9f-4181-a18c-7b72fb07c680",
   "metadata": {},
   "outputs": [
    {
     "name": "stdin",
     "output_type": "stream",
     "text": [
      "Enter the number: 52452\n"
     ]
    }
   ],
   "source": [
    "num=int(input(\"Enter the number:\"))"
   ]
  },
  {
   "cell_type": "code",
   "execution_count": 45,
   "id": "034ef035-b491-46ea-9fba-0b7092838c96",
   "metadata": {},
   "outputs": [],
   "source": [
    "def  OddEven_OddEven():\n",
    "    print(\"Enter a number:\",num)\n",
    "    if((num%2)==0):\n",
    "        print(num,\"is even number\")\n",
    "    else:\n",
    "        print(num,\"is odd number\")"
   ]
  },
  {
   "cell_type": "code",
   "execution_count": 47,
   "id": "d002a541-5836-4a74-a272-590d1326a51b",
   "metadata": {},
   "outputs": [
    {
     "name": "stdout",
     "output_type": "stream",
     "text": [
      "Enter a number: 52452\n",
      "52452 is even number\n"
     ]
    }
   ],
   "source": [
    "OddEven_OddEven()"
   ]
  },
  {
   "cell_type": "code",
   "execution_count": 129,
   "id": "5b387689-9d7c-4d1e-abd0-49e331afec03",
   "metadata": {},
   "outputs": [
    {
     "name": "stdin",
     "output_type": "stream",
     "text": [
      "Your gender: male\n"
     ]
    }
   ],
   "source": [
    "gender=str(input(\"Your gender:\"))"
   ]
  },
  {
   "cell_type": "code",
   "execution_count": 151,
   "id": "1fe92c24-1a45-4612-9c6c-e2fb79115f8e",
   "metadata": {},
   "outputs": [
    {
     "name": "stdin",
     "output_type": "stream",
     "text": [
      "Your age: 20\n"
     ]
    }
   ],
   "source": [
    "age=int(input(\"Your age:\"))"
   ]
  },
  {
   "cell_type": "code",
   "execution_count": 161,
   "id": "c0b8f5d4-d41f-4aa2-baaa-2f8041dcda19",
   "metadata": {},
   "outputs": [],
   "source": [
    "def ElegiblityForMarriageElegible():\n",
    "    print(\"your gender:\",gender)\n",
    "    print(\"your age:\",age)\n",
    "    if((gender==\"male\") and (age>=21)):\n",
    "        print(\"Eligible\")\n",
    "    elif((gender==\"Female\") and (pge>=18)):\n",
    "        print(\"Eligible\")\n",
    "    else:\n",
    "        print(\"Not Eligible\")"
   ]
  },
  {
   "cell_type": "code",
   "execution_count": 163,
   "id": "cb548a96-9b96-44c5-8b8d-c75c7ec2e9b4",
   "metadata": {},
   "outputs": [
    {
     "name": "stdout",
     "output_type": "stream",
     "text": [
      "your gender: male\n",
      "your age: 20\n",
      "Not Eligible\n"
     ]
    }
   ],
   "source": [
    "ElegiblityForMarriageElegible()"
   ]
  },
  {
   "cell_type": "code",
   "execution_count": 191,
   "id": "e4e69b98-ceaa-46ff-be90-cf68fa16c2fc",
   "metadata": {},
   "outputs": [
    {
     "name": "stdin",
     "output_type": "stream",
     "text": [
      "subject1= 98\n"
     ]
    }
   ],
   "source": [
    "sub1=int(input(\"subject1=\"))"
   ]
  },
  {
   "cell_type": "code",
   "execution_count": 193,
   "id": "a26299b8-fc1b-4282-950c-acc85044e4e9",
   "metadata": {},
   "outputs": [
    {
     "name": "stdin",
     "output_type": "stream",
     "text": [
      "subject2= 87\n"
     ]
    }
   ],
   "source": [
    "sub2=int(input(\"subject2=\"))"
   ]
  },
  {
   "cell_type": "code",
   "execution_count": 195,
   "id": "890e167d-88f9-416d-9ffb-7a95e9c13042",
   "metadata": {},
   "outputs": [
    {
     "name": "stdin",
     "output_type": "stream",
     "text": [
      "subject3= 95\n"
     ]
    }
   ],
   "source": [
    "sub3=int(input(\"subject3=\"))"
   ]
  },
  {
   "cell_type": "code",
   "execution_count": 197,
   "id": "211833e3-390a-47fd-839a-4089b49fc692",
   "metadata": {},
   "outputs": [
    {
     "name": "stdin",
     "output_type": "stream",
     "text": [
      "subject4= 95\n"
     ]
    }
   ],
   "source": [
    "sub4=int(input(\"subject4=\"))"
   ]
  },
  {
   "cell_type": "code",
   "execution_count": 199,
   "id": "637a0457-85ee-44d0-aa2a-bb441575cd8c",
   "metadata": {},
   "outputs": [
    {
     "name": "stdin",
     "output_type": "stream",
     "text": [
      "subject5= 93\n"
     ]
    }
   ],
   "source": [
    "sub5=int(input(\"subject5=\"))"
   ]
  },
  {
   "cell_type": "code",
   "execution_count": 221,
   "id": "45d358a7-9178-4de8-8254-0a28ab24f560",
   "metadata": {},
   "outputs": [],
   "source": [
    "def FindPercentpercentage():\n",
    "    print(\"Subject1:\",sub1)\n",
    "    print(\"Subject2:\",sub2)\n",
    "    print(\"Subject3:\",sub3)\n",
    "    print(\"Subject4:\",sub4)\n",
    "    print(\"Subject5:\",sub5)\n",
    "    total=int(sub1+sub2+sub3+sub4+sub5)\n",
    "    print(\"total : \",total)\n",
    "    precentage=((total/500)*100)\n",
    "    print(\"precentage : \",precentage)"
   ]
  },
  {
   "cell_type": "code",
   "execution_count": 223,
   "id": "f8f96e63-ae1f-42fc-b73f-3cbf49d9adf5",
   "metadata": {},
   "outputs": [
    {
     "name": "stdout",
     "output_type": "stream",
     "text": [
      "Subject1: 98\n",
      "Subject2: 87\n",
      "Subject3: 95\n",
      "Subject4: 95\n",
      "Subject5: 93\n",
      "total :  468\n",
      "precentage :  93.60000000000001\n"
     ]
    }
   ],
   "source": [
    "FindPercentpercentage()"
   ]
  },
  {
   "cell_type": "code",
   "execution_count": 231,
   "id": "b9800136-0448-4159-8fd6-ecfe332c7275",
   "metadata": {},
   "outputs": [
    {
     "name": "stdin",
     "output_type": "stream",
     "text": [
      "Height1: 2\n"
     ]
    }
   ],
   "source": [
    "Hei1=int(input(\"Height1:\"))"
   ]
  },
  {
   "cell_type": "code",
   "execution_count": 233,
   "id": "5426d5b9-5e18-4d12-ae7e-7bb1d58dd3d8",
   "metadata": {},
   "outputs": [
    {
     "name": "stdin",
     "output_type": "stream",
     "text": [
      "Height2: 4\n"
     ]
    }
   ],
   "source": [
    "Hei2=int(input(\"Height2:\"))"
   ]
  },
  {
   "cell_type": "code",
   "execution_count": 239,
   "id": "1d7e68b2-bdf9-42ce-a607-0f7ca662d265",
   "metadata": {},
   "outputs": [
    {
     "name": "stdin",
     "output_type": "stream",
     "text": [
      "Breadth: 4\n"
     ]
    }
   ],
   "source": [
    "bre1=int(input(\"Breadth:\"))"
   ]
  },
  {
   "cell_type": "code",
   "execution_count": 241,
   "id": "3c74e7bf-93d9-4f5d-b55a-04ef92d61b12",
   "metadata": {},
   "outputs": [
    {
     "name": "stdin",
     "output_type": "stream",
     "text": [
      "Height: 32\n"
     ]
    }
   ],
   "source": [
    "Hei=int(input(\"Height:\"))"
   ]
  },
  {
   "cell_type": "code",
   "execution_count": 243,
   "id": "9e927427-5760-4cf2-af23-f541147c4ed3",
   "metadata": {},
   "outputs": [
    {
     "name": "stdin",
     "output_type": "stream",
     "text": [
      "breadth: 34\n"
     ]
    }
   ],
   "source": [
    "bre=int(input(\"breadth:\"))"
   ]
  },
  {
   "cell_type": "code",
   "execution_count": 307,
   "id": "d7c0e242-fa68-49d0-9136-d24e7b9f46fe",
   "metadata": {},
   "outputs": [],
   "source": [
    "def  triangletriangle():\n",
    "    print(\"Height:\",Hei)\n",
    "    print(\"Breadth:\",bre)\n",
    "    print(\"Area formula:(Height*Breadth)/2\")\n",
    "    print(\"Height1:\",Hei1)\n",
    "    print(\"Height2:\",Hei2)\n",
    "    print(\"Breadth:\",bre1)\n",
    "    Area=(int(Hei*bre)/2)\n",
    "    print(\"Area of Triangle:\",Area)\n",
    "    Perimeter=int(Hei1+Hei2+bre1)\n",
    "    print(\"Perimeter formula= Height1+Height2+Breadth\")\n",
    "    print(\"perimeter of Triangel:\",Perimeter)"
   ]
  },
  {
   "cell_type": "code",
   "execution_count": 309,
   "id": "d4a43bcc-6c4c-4e06-91c6-a5f97fcb0dff",
   "metadata": {},
   "outputs": [
    {
     "name": "stdout",
     "output_type": "stream",
     "text": [
      "Height: 32\n",
      "Breadth: 34\n",
      "Area formula:(Height*Breadth)/2\n",
      "Height1: 2\n",
      "Height2: 4\n",
      "Breadth: 4\n",
      "Area of Triangle: 544.0\n",
      "Perimeter formula= Height1+Height2+Breadth\n",
      "perimeter of Triangel: 10\n"
     ]
    }
   ],
   "source": [
    "triangletriangle()"
   ]
  },
  {
   "cell_type": "code",
   "execution_count": null,
   "id": "65c04451-9a1d-4705-a1a5-d07a1ec8ee65",
   "metadata": {},
   "outputs": [],
   "source": []
  }
 ],
 "metadata": {
  "kernelspec": {
   "display_name": "Python 3 (ipykernel)",
   "language": "python",
   "name": "python3"
  },
  "language_info": {
   "codemirror_mode": {
    "name": "ipython",
    "version": 3
   },
   "file_extension": ".py",
   "mimetype": "text/x-python",
   "name": "python",
   "nbconvert_exporter": "python",
   "pygments_lexer": "ipython3",
   "version": "3.12.7"
  }
 },
 "nbformat": 4,
 "nbformat_minor": 5
}
