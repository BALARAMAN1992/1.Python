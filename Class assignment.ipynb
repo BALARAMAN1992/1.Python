{
 "cells": [
  {
   "cell_type": "code",
   "execution_count": 5,
   "id": "58f6619e-6755-43dd-9d02-a3a24ab6c444",
   "metadata": {},
   "outputs": [],
   "source": [
    "class multifunction():\n",
    "    def SubfieldsInAISubfields():\n",
    "        list=[\"Machine Learning\",\"Neural Networks\",\"Vision\",\"Robotics\",\"Speech Processing\",\"Natural Language Processing\"]\n",
    "        print(\"Sub-fields in AI are:\")\n",
    "        for name in list:\n",
    "            print(name)\n",
    "    def  OddEven_OddEven():\n",
    "        num=int(input(\"Enter a number:\"))\n",
    "        if((num%2)==0):\n",
    "            print(num,\"is even number\")\n",
    "        else:\n",
    "            print(num,\"is odd number\")\n",
    "            \n",
    "    def ElegiblityForMarriageElegible():\n",
    "        gender=str(input(\"Your gender:\"))\n",
    "        age=int(input(\"Your age:\"))\n",
    "        if((gender==\"male\") and (age>=21)):\n",
    "            print(\"Eligible\")\n",
    "        elif((gender==\"Female\") and (pge>=18)):\n",
    "            print(\"Eligible\")\n",
    "        else:\n",
    "            print(\"Not Eligible\")\n",
    "    def  triangletriangle():\n",
    "        Hei=int(input(\"Height:\"))\n",
    "        bre=int(input(\"Breadth:\"))\n",
    "        print(\"Area of formula: Height*Breadth/2\")\n",
    "        Area=(int(Hei*bre)/2)\n",
    "        print(\"Area of Triangle: \",Area)\n",
    "        Hei1=int(input(\"Height1:\"))\n",
    "        Hei2=int(input(\"Height2:\"))\n",
    "        bre1=int(input(\"Breadth:\"))\n",
    "        Perimeter=int(Hei1+Hei2+bre1)\n",
    "        print(\"Perimeter formula= Height1+Height2+Breadth\")\n",
    "        print(\"perimeter of Triangel:\",Perimeter)\n",
    "    def FindPercentpercentage():\n",
    "        sub1=int(input(\"subject1=\"))\n",
    "        sub2=int(input(\"subject2=\"))\n",
    "        sub3=int(input(\"subject3=\"))\n",
    "        sub4=int(input(\"subject4=\"))\n",
    "        sub5=int(input(\"subject5=\"))\n",
    "        total=int(sub1+sub2+sub3+sub4+sub5)\n",
    "        print(\"total : \",total)\n",
    "        precentage=((total/500)*100)\n",
    "        print(\"precentage : \",precentage)"
   ]
  },
  {
   "cell_type": "code",
   "execution_count": 7,
   "id": "6958866b-5065-4f6c-b280-e87b25775fbd",
   "metadata": {},
   "outputs": [
    {
     "name": "stdout",
     "output_type": "stream",
     "text": [
      "Sub-fields in AI are:\n",
      "Machine Learning\n",
      "Neural Networks\n",
      "Vision\n",
      "Robotics\n",
      "Speech Processing\n",
      "Natural Language Processing\n"
     ]
    }
   ],
   "source": [
    "multifunction.SubfieldsInAISubfields()"
   ]
  },
  {
   "cell_type": "code",
   "execution_count": 13,
   "id": "e0946789-5e47-48d5-b9c3-4883464f8038",
   "metadata": {},
   "outputs": [
    {
     "name": "stdin",
     "output_type": "stream",
     "text": [
      "Enter a number: 52452\n"
     ]
    },
    {
     "name": "stdout",
     "output_type": "stream",
     "text": [
      "52452 is even number\n"
     ]
    }
   ],
   "source": [
    "multifunction.OddEven_OddEven()"
   ]
  },
  {
   "cell_type": "code",
   "execution_count": 21,
   "id": "34a4ee53-66b8-48cc-a313-3ee18f9a9238",
   "metadata": {},
   "outputs": [
    {
     "name": "stdin",
     "output_type": "stream",
     "text": [
      "Your gender: male\n",
      "Your age: 20\n"
     ]
    },
    {
     "name": "stdout",
     "output_type": "stream",
     "text": [
      "Not Eligible\n"
     ]
    }
   ],
   "source": [
    "multifunction.ElegiblityForMarriageElegible()"
   ]
  },
  {
   "cell_type": "code",
   "execution_count": 7,
   "id": "48b162cc-6830-4c38-9a25-09034f3ef8e9",
   "metadata": {},
   "outputs": [
    {
     "name": "stdin",
     "output_type": "stream",
     "text": [
      "Height: 32\n",
      "Breadth: 34\n"
     ]
    },
    {
     "name": "stdout",
     "output_type": "stream",
     "text": [
      "Area of formula: Height*Breadth/2\n",
      "Area of Triangle:  544.0\n"
     ]
    },
    {
     "name": "stdin",
     "output_type": "stream",
     "text": [
      "Height1: 2\n",
      "Height2: 4\n",
      "Breadth: 4\n"
     ]
    },
    {
     "name": "stdout",
     "output_type": "stream",
     "text": [
      "Perimeter formula= Height1+Height2+Breadth\n",
      "perimeter of Triangel: 10\n"
     ]
    }
   ],
   "source": [
    "multifunction.triangletriangle()"
   ]
  },
  {
   "cell_type": "code",
   "execution_count": 11,
   "id": "f4bafd1f-693b-42bf-95e9-de9573828af7",
   "metadata": {},
   "outputs": [
    {
     "name": "stdin",
     "output_type": "stream",
     "text": [
      "subject1= 98\n",
      "subject2= 87\n",
      "subject3= 95\n",
      "subject4= 95\n",
      "subject5= 93\n"
     ]
    },
    {
     "name": "stdout",
     "output_type": "stream",
     "text": [
      "total :  468\n",
      "precentage :  93.60000000000001\n"
     ]
    }
   ],
   "source": [
    "multifunction.FindPercentpercentage()"
   ]
  },
  {
   "cell_type": "code",
   "execution_count": null,
   "id": "987dfa66-209a-44c6-981c-46437b6e0cb0",
   "metadata": {},
   "outputs": [],
   "source": []
  }
 ],
 "metadata": {
  "kernelspec": {
   "display_name": "Python 3 (ipykernel)",
   "language": "python",
   "name": "python3"
  },
  "language_info": {
   "codemirror_mode": {
    "name": "ipython",
    "version": 3
   },
   "file_extension": ".py",
   "mimetype": "text/x-python",
   "name": "python",
   "nbconvert_exporter": "python",
   "pygments_lexer": "ipython3",
   "version": "3.12.7"
  }
 },
 "nbformat": 4,
 "nbformat_minor": 5
}
